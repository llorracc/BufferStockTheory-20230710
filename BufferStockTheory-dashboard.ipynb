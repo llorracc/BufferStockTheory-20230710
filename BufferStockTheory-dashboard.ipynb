{
 "cells": [
  {
   "cell_type": "markdown",
   "metadata": {},
   "source": [
    "# [Theoretical Foundations of Buffer Stock Saving](https://econ-ark.github.io/BufferStockTheory)\n",
    "## Interactive Figures\n",
    "\n",
    "[![econ-ark.org](https://img.shields.io/badge/Powered%20by-Econ--ARK-3e8acc.svg)](https://econ-ark.org/materials/bufferstocktheory)\n",
    "\n",
    "(Execute the cells below one at a time to activate the corresponding interactive tools)"
   ]
  },
  {
   "cell_type": "code",
   "execution_count": 1,
   "metadata": {
    "jupyter": {
     "source_hidden": true
    },
    "tags": []
   },
   "outputs": [],
   "source": [
    "# Make sure we have things set up correctly\n",
    "\n",
    "# Get others' tools\n",
    "import os.path\n",
    "\n",
    "# Make sure requirements have been satisfied\n",
    "if os.path.isdir('binder'):  # Folder defining requirements exists\n",
    "    # File requirements.out should be created first time notebook is run\n",
    "    if not os.path.isfile('./binder/requirements.out'):  \n",
    "        !(pip install -r ./binder/requirements.txt > ./binder/requirements.out)\n",
    "\n",
    "from ipywidgets import interact, interactive, fixed, interact_manual\n",
    "\n",
    "# Get HARK modeling tool\n",
    "from HARK.ConsumptionSaving.ConsIndShockModel import IndShockConsumerType\n",
    "\n",
    "# Get BufferStockTheory dashboard tools\n",
    "import Dashboard.dashboard_widget as BST"
   ]
  },
  {
   "cell_type": "markdown",
   "metadata": {
    "tags": []
   },
   "source": [
    "## Convergence of the Consumption Rules\n",
    "\\begin{align}\n",
    "\\newcommand\\maththorn{\\mathord{\\pmb{\\text{\\TH}}}}\n",
    "\\newcommand{\\aLvl}{\\mathbf{a}}\n",
    "\\newcommand{\\aNrm}{{a}}\n",
    "\\newcommand{\\BalGroRte}{\\tilde}\n",
    "\\newcommand{\\Bal}{\\check}\n",
    "\\newcommand{\\bLvl}{{\\mathbf{b}}}\n",
    "\\newcommand{\\bNrm}{{b}}\n",
    "\\newcommand{\\cFunc}{\\mathrm{c}}\n",
    "\\newcommand{\\cLvl}{{\\mathbf{c}}}\n",
    "\\newcommand{\\cNrm}{{c}}\n",
    "\\newcommand{\\CRRA}{\\rho}\n",
    "\\newcommand{\\DiscFac}{\\beta}\n",
    "\\newcommand{\\dLvl}{{\\mathbf{d}}}\n",
    "\\newcommand{\\dNrm}{{d}}\n",
    "\\newcommand{\\Ex}{\\mathbb{E}}\n",
    "\\newcommand{\\hLvl}{{\\mathbf{h}}}\n",
    "\\newcommand{\\hNrm}{{h}}\n",
    "\\newcommand{\\IncUnemp}{\\mu}\n",
    "\\newcommand{\\mLvl}{{\\mathbf{m}}}\n",
    "\\newcommand{\\mNrm}{{m}}\n",
    "\\newcommand{\\MPC}{\\kappa}\n",
    "\\newcommand{\\PatFac}{\\pmb{\\unicode[0.55,0.05]{0x00DE}}}\n",
    "\\newcommand{\\PatRte}{\\pmb{\\unicode[0.55,0.05]{0x00FE}}}\n",
    "\\newcommand{\\PermGroFacAdj}{\\underline{\\Phi}}\n",
    "\\newcommand{\\PermGroFac}{\\pmb{\\Phi}}\n",
    "\\newcommand{\\PermShkStd}{\\sigma_{\\PermShk}}\n",
    "\\newcommand{\\PermShk}{\\pmb{\\psi}} % New\n",
    "\\newcommand{\\pLvl}{{\\mathbf{p}}}\n",
    "\\newcommand{\\Rfree}{\\mathsf{R}}\n",
    "\\newcommand{\\RNrm}{\\mathcal{R}}\n",
    "\\newcommand{\\RPFac}{\\APFac_{\\Rfree}}\n",
    "\\newcommand{\\Thorn}{\\pmb{\\TH}}\n",
    "\\newcommand{\\TranShkAll}{\\pmb{\\xi}}\n",
    "\\newcommand{\\TranShkStd}{\\sigma_{\\TranShk}}\n",
    "\\newcommand{\\TranShk}{\\pmb{\\theta}}\n",
    "\\newcommand{\\Trg}{\\hat}\n",
    "\\newcommand{\\uFunc}{\\mathrm{u}}\n",
    "\\newcommand{\\UnempPrb}{\\wp}\n",
    "\\newcommand{\\vLvl}{{\\mathbf{v}}}\n",
    "\\newcommand{\\vNrm}{{v}}\n",
    "\\renewcommand{\\APFac}{\\pmb{\\unicode[0.55,0.05]{0x00DE}}}\n",
    "\\end{align}\n",
    "Under the given parameter values,\n",
    "\n",
    "\n",
    "| Parameter | Description | Python Variable | Value |\n",
    "|:---:      | :---:       | :---:  | :---: |\n",
    "| $\\PermGroFac$ | Permanent Income Growth Factor | $\\texttt{PermGroFac}$ | 1.03 |\n",
    "| $\\Rfree$ | Interest Factor | $\\texttt{Rfree}$ | 1.04 |\n",
    "| $\\DiscFac$ | Time Preference Factor | $\\texttt{DiscFac}$ | 0.96 |\n",
    "| $\\CRRA$ | Coeﬃcient of Relative Risk Aversion| $\\texttt{CRRA}$ | 2 |\n",
    "| $\\UnempPrb$ | Probability of Unemployment | $\\texttt{UnempPrb}$ | 0.005 |\n",
    "| $\\TranShk^{\\large u}$ | Income when Unemployed | $\\texttt{IncUnemp}$ | 0. |\n",
    "| $\\PermShkStd$ | Std Dev of Log Permanent Shock| $\\texttt{PermShkStd}$ | 0.1 |\n",
    "| $\\TranShkStd$ | Std Dev of Log Transitory Shock| $\\texttt{TranShkStd}$ | 0.1 |\n",
    "\n",
    "[the paper's first figure](https://econ-ark.github.io/BufferStockTheory/BufferStockTheory3.html#Convergence-of-the-Consumption-Rules) depicts the successive consumption rules that apply in the last period of life $(\\cFunc_{T}(\\mNrm))$, the second-to-last period, and earlier periods $(\\cFunc_{T-n})$.  $\\cFunc(\\mNrm)$ is the consumption function to which these converge:\n",
    "\n",
    "\\begin{align}\n",
    " \\cFunc(\\mNrm) & = \\lim_{n \\uparrow \\infty} \\cFunc_{T-n}(\\mNrm)\n",
    "\\end{align}\n"
   ]
  },
  {
   "cell_type": "code",
   "execution_count": 2,
   "metadata": {
    "tags": []
   },
   "outputs": [
    {
     "data": {
      "application/vnd.jupyter.widget-view+json": {
       "model_id": "a460e65d19524b838b9fc6bd651d0c12",
       "version_major": 2,
       "version_minor": 0
      },
      "text/plain": [
       "interactive(children=(FloatSlider(value=0.96, continuous_update=False, description='β', max=0.99, min=0.92, st…"
      ]
     },
     "metadata": {},
     "output_type": "display_data"
    }
   ],
   "source": [
    "# Risk aversion ρ and σ_ψ have the most interesting effects\n",
    "\n",
    "cFuncsConverge_widget=interactive(\n",
    "    BST.makeConvergencePlot,\n",
    "    DiscFac=BST.DiscFac_widget[0],\n",
    "    CRRA=BST.CRRA_widget[0],\n",
    "    Rfree=BST.Rfree_widget[0],\n",
    "    PermShkStd=BST.PermShkStd_widget[0],\n",
    ")\n",
    "cFuncsConverge_widget"
   ]
  },
  {
   "cell_type": "markdown",
   "metadata": {
    "tags": []
   },
   "source": [
    "## [Growth Impatience, and Pseudo-Steady-State versus Target Wealth](https://econ-ark.github.io/BufferStockTheory/BufferStockTheory3.html#The-GIC)\n",
    "\n",
    "[A figure](https://econ-ark.github.io/BufferStockTheory/BufferStockTheory3.html#GICModFailsButGICRawHolds) in the paper depicts a solution when:\n",
    "\n",
    "   - the **FVAC** [(Finite Value of Autarky Condition)](https://econ-ark.github.io/BufferStockTheory/BufferStockTheory3.html#FVAC) and **WRIC** [(Weak Return Impatience Condition)](https://econ-ark.github.io/BufferStockTheory/BufferStockTheory3.html#WRIC) hold \n",
    "       - so that [the model has a solution](https://econ-ark.github.io/BufferStockTheory/BufferStockTheory3.html#Conditions-Under-Which-the-Problem-Defines-a-Contraction-Mapping), \n",
    "   - and the raw **GIC** [(Growth Impatience Condition)](https://econark.github.io/BufferStockTheory/BufferStockTheory3.html#GICRaw) holds\n",
    "       - so that there is an [aggregate balanced-growth equilibrium](https://econ-ark.github.io/BufferStockTheory/BufferStockTheory3.html#Growth-Rates-of-Aggregate-Income-and-Consumption) and an individual [Pseudo-Steady-State](https://econ-ark.github.io/BufferStockTheory/BufferStockTheory3.html#pseudo-steady-state),\n",
    "   - but the impatience condition normalized by the permanent shock (the [Normalized Growth Impatience Condition **GIC-Nrm**](https://econ-ark.github.io/BufferStockTheory/BufferStockTheory3.html#GICMod) fails\n",
    "       - so that there is no [individual target wealth ratio](https://econ-ark.github.io/BufferStockTheory/BufferStockTheory3.html#TheoremTarget)\n"
   ]
  },
  {
   "cell_type": "markdown",
   "metadata": {},
   "source": [
    "\\begin{align}\n",
    "\\texttt{GICRaw-Holds:    }\\phantom{\\Ex}\\left[\\frac{(\\Rfree \\DiscFac)^{1/\\CRRA}}{\\PermGroFac\\phantom{\\PermShk}}\\right] & <  1 \\\\\n",
    "\\texttt{GICMod-Fails:    }\\Ex\\left[\\frac{(\\Rfree \\DiscFac)^{1/\\CRRA}}{\\PermGroFac\\PermShk}\\right] & >  1\n",
    "\\end{align}"
   ]
  },
  {
   "cell_type": "markdown",
   "metadata": {},
   "source": [
    "Use the slider to see what happens as you move $\\sigma_{\\PermShk}$ from below to above the value that makes the GIC-Nrm condition fail.  \n",
    "\n",
    "| Param | Description | Code | Value |\n",
    "| :---: | ---         | ---  | :---: |\n",
    "| $\\sigma_{\\PermShk}$ | Std Dev Perm Shk | `PermShkStd` | 0.2 |"
   ]
  },
  {
   "cell_type": "code",
   "execution_count": 3,
   "metadata": {
    "tags": []
   },
   "outputs": [
    {
     "name": "stderr",
     "output_type": "stream",
     "text": [
      "\n",
      "(quietly=False and messaging_level < logging.WARNING, so some model information is provided below):\n",
      "\n",
      "The model has the following parameter values:\n",
      "\n",
      "\tDiscFac: 0.96\n",
      "\tLivPrb: 1.0\n",
      "\tCRRA: 2.0\n",
      "\tRfree: 1.04\n",
      "\tPermGroFac: 1.03\n",
      "\tIncShkDstn: <HARK.distribution.DiscreteDistribution object at 0x7f9408824fd0>\n",
      "\tPermShkDstn: <HARK.distribution.DiscreteDistribution object at 0x7f940882f1f0>\n",
      "\tTranShkDstn: <HARK.distribution.DiscreteDistribution object at 0x7f94384fa490>\n",
      "\tBoroCnstArt: None\n",
      "\tMaxKinks: None\n",
      "\tsolverType: HARK\n",
      "\tsolveMethod: EGM\n",
      "\teventTiming: EOP\n",
      "\thorizon: infinite\n",
      "\targs: ()\n",
      "\n",
      "The model's transition equations are:\n",
      "\n",
      "chosen_to_next_choice step:\n",
      "\tkNrm = aNrm\n",
      "\tRNrm = Rfree / (PermGroFac * PermShk)\n",
      "\tbNrm = kNrm * RNrm\n",
      "\tyNrm = TranShk\n",
      "\tmNrm = bNrm + yNrm\n",
      "\n",
      "choice_to_chosen step:\n",
      "\taNrm = mNrm - cNrm\n",
      "\n",
      "\n",
      "Because messaging_level is >= logging.INFO, infinite horizon conditions are reported below:\n",
      "\n",
      "\n",
      "The Absolute Patience Factor, APFac=0.99920 satisfies the Absolute Impatience Condition (AIC), APFac < 1:\n",
      "    https://econ-ark.github.io/BufferStockTheory/BufferStockTheory3.html#AIC\n",
      "\n",
      "    Because the APFac < 1,  the absolute amount of consumption is expected to fall over time.  \n",
      "\n",
      "\n",
      "The Finite Human Wealth Factor, FHWFac=0.99038 satisfies the Finite Human Wealth Condition (FHWC), FHWFac < 1:\n",
      "    https://econ-ark.github.io/BufferStockTheory/BufferStockTheory3.html#FHWC\n",
      "\n",
      "    Therefore, the limiting consumption function is not c(m)=Infinity.\n",
      "\n",
      "    Human wealth normalized by permanent income is 104.00000.\n",
      "\n",
      "\n",
      "The Return Patience Factor, RPFac=0.96077 satisfies the Return Impatience Condition (RIC), RPFac < 1:\n",
      "    https://econ-ark.github.io/BufferStockTheory/BufferStockTheory3.html#RIC\n",
      "\n",
      "    Therefore, the limiting consumption function is not c(m)=0 for all m\n",
      "\n",
      "\n",
      "The Normalized Growth Patience Factor GPFacNrm, GPFacNrm=1.00697 violates the Normalized Growth Impatience Condition (GICMod), GPFacNrm < 1:\n",
      "    https://econ-ark.github.io/BufferStockTheory/BufferStockTheory3.html#GICMod\n",
      "\n",
      "\n",
      "    Therefore, a target ratio of individual market resources to individual permanent income does not exist.\n",
      "\n",
      "\n",
      "The Szeidl Growth Patience Factor GPFacSdl=0.98839 satisfies the Szeidl Growth Impatience Condition (GICSdl), GPFacSdl < 1:\n",
      "    https://econ-ark.github.io/BufferStockTheory/BufferStockTheory3.html#GICSdl\n",
      "\n",
      "    Therefore, invariant distributions of ratio variables like m exist.\n",
      "\n",
      "\n",
      "The Growth Patience Factor, GPF=0.97010 satisfies the Growth Impatience Condition (GICRaw), GPFac < 1:\n",
      "    https://econ-ark.github.io/BufferStockTheory/BufferStockTheory3.html#GICRaw\n",
      "\n",
      "\n",
      "    Therefore, for a perfect foresight consumer, the ratio of individual wealth to permanent income is expected to fall indefinitely.    \n",
      "\n",
      "\n",
      "The Harmenberg Growth Patience Factor GPFacHrm=0.95220 satisfies the Harmenberg Growth Impatience Condition (GICHrm), GPFacHrm < 1:\n",
      "    https://econ-ark.github.io/BufferStockTheory/BufferStockTheory3.html#GICHrm\n",
      "\n",
      "    Therefore, a target level of the individual market resources ratio m exists under the permanent-income-neutral measure.\n",
      "\n",
      "\n",
      "The Mortality Adjusted Growth Patience Factor, GPFacLiv=0.97010 satisfies the Mortality Adjusted Growth Impatience Condition (GICLiv):\n",
      "    https://econ-ark.github.io/BufferStockTheory/BufferStockTheory3.html#GPFacLivDefn\n",
      "\n",
      "    Therefore, a target level of the ratio of aggregate market resources to aggregate permanent income exists.    \n",
      "    \n",
      "\n",
      "The Modigliani Mortality Adjusted Growth Patience Factor, GPFacLivMod=0.97010 satisfies the Mortality Adjusted Growth Impatience Condition (GICLivMod):\n",
      "    https://econ-ark.github.io/BufferStockTheory/BufferStockTheory3.html#GICLivModDefn\n",
      "\n",
      "    Therefore, a target level of the ratio of aggregate market resources to aggregate permanent income exists.    \n",
      "\n",
      "\n",
      "The Finite Value of Autarky Factor, VAFac=0.96000 satisfies the Finite Value of Autarky Condition, VAFac < 1:\n",
      "    https://econ-ark.github.io/BufferStockTheory/BufferStockTheory3.html#FVAC\n",
      "\n",
      "    Therefore, a nondegenerate solution exists if the RIC also holds. \n",
      "    \n"
     ]
    },
    {
     "name": "stdout",
     "output_type": "stream",
     "text": [
      ".\n"
     ]
    }
   ],
   "source": [
    "# Make consumer more patient by doubling uncertainty\n",
    "BST.base_params['PermShkStd'] = [2 * 0.1]\n",
    "\n",
    "# Give solution a bit more precision by increasing density of shocks\n",
    "BST.base_params['PermShkCount'] = BST.PermShkCount = 7  #  extra points for accuracy\n",
    "\n",
    "# Construct an instance, and unquietly describe it\n",
    "GICModFailsButGICRawHolds = \\\n",
    "    IndShockConsumerType(**BST.base_params,\n",
    "                         quietly=False,\n",
    "                         messaging_level=10) # level 10 is all messages; increase for less output"
   ]
  },
  {
   "cell_type": "code",
   "execution_count": 4,
   "metadata": {
    "lines_to_next_cell": 2
   },
   "outputs": [
    {
     "data": {
      "application/vnd.jupyter.widget-view+json": {
       "model_id": "12026c71cfa04748a137553f3f2bdfeb",
       "version_major": 2,
       "version_minor": 0
      },
      "text/plain": [
       "interactive(children=(FloatSlider(value=0.96, continuous_update=False, description='β', max=0.99, min=0.92, st…"
      ]
     },
     "metadata": {},
     "output_type": "display_data"
    }
   ],
   "source": [
    "# Under starting parameters, this example has a pseudo-steady-state m where there\n",
    "# is balanced growth in the levels of market resources and consumption, BalLvl,\n",
    "# but does not have a (finite) \"target\" value of m where the ratio of individual\n",
    "# market resources to permanent income is expected to be stable\n",
    "# (the consumption function intersects with the expected MLvl growth but not the mNrm change locus)\n",
    "# If permanent shock std is reduced, it will have both steady state m and target m\n",
    "\n",
    "GICFailsExample_widget = interactive(\n",
    "    BST.makeGICFailExample,\n",
    "    DiscFac=BST.DiscFac_widget[1],\n",
    "    PermShkStd=BST.PermShkStd_alt_start_widget[1],\n",
    "    UnempPrb=BST.UnempPrb_widget[1],\n",
    ")\n",
    "GICFailsExample_widget"
   ]
  },
  {
   "cell_type": "markdown",
   "metadata": {},
   "source": [
    "### [Balanced Growth \"Steady State Equilibrium\" $\\check{m}$, \"Target\" $\\hat{m}$, Expected Consumption Growth, and Permanent Income Growth](https://econ-ark.github.io/BufferStockTheory/BufferStockTheory3.html#AnalysisoftheConvergedConsumptionFunction)\n",
    "\n",
    "The next figure is shown in  [Analysis of the Converged Consumption Function](https://econ-ark.github.io/BufferStockTheory/BufferStockTheory3.html#cNrmTargetFig), and depicts the expected consumption growth factor $\\Ex_{t}[\\cLvl_{t+1}/\\cLvl_{t}]$ for a consumer behaving according to the converged consumption rule, along with the expected growth factor for market resources $\\Ex_{t}[\\pmb{\\mathrm{m}}_{t+1}/\\pmb{\\mathrm{m}}_{t}]$, and the expected growth factor for the ratio of market resources to permanent income, $\\Ex_{t}[\\mNrm_{t+1}/\\mNrm_{t}]$.\n",
    "\n",
    "Manipulate the time preference and income growth factors to show the effects on target and pseudo-steady-state (\"balanced growth\") wealth, whose numerical values appear above the figure."
   ]
  },
  {
   "cell_type": "code",
   "execution_count": 5,
   "metadata": {
    "tags": []
   },
   "outputs": [
    {
     "data": {
      "application/vnd.jupyter.widget-view+json": {
       "model_id": "062554bb06044e67a47f98afa86ae600",
       "version_major": 2,
       "version_minor": 0
      },
      "text/plain": [
       "interactive(children=(FloatSlider(value=1.02, continuous_update=False, description='ϕ', max=1.04, min=1.0, rea…"
      ]
     },
     "metadata": {},
     "output_type": "display_data"
    }
   ],
   "source": [
    "# Explore what happens as you make the consumer more patient in two ways: β ↑ and Γ ↓\n",
    "\n",
    "BST.base_params['PermShkStd'] = [0.1]  #  Restore the original default uncertainty\n",
    "cNrmTargetFig_widget = interactive(\n",
    "    BST.cNrmTargetFig_make,\n",
    "    PermGroFac=BST.PermGroFac_growth_widget[2],\n",
    "    DiscFac=BST.DiscFac_growth_widget[2]\n",
    ")\n",
    "cNrmTargetFig_widget"
   ]
  },
  {
   "cell_type": "markdown",
   "metadata": {},
   "source": [
    "### [Consumption Function Bounds](https://econ-ark.github.io/BufferStockTheory/BufferStockTheory3.html#AnalysisoftheConvergedConsumptionFunction)\n",
    "[The next figure](https://econ-ark.github.io/BufferStockTheory/BufferStockTheory3.html#cFuncBounds)\n",
    "illustrates theoretical bounds for the consumption function.\n",
    "\n",
    "The numerator in the ratios in the growth impatience conditions above is a central object in the paper, which we call the Absolute Patience Factor, [APF](https://econark.github.io/BufferStockTheory/BufferStockTheory3.html#APFacDefn):\n",
    "\\begin{align}\n",
    "\\texttt{APF:   } \\APFac & = \\left(\\Rfree \\DiscFac\\right)^{1/\\CRRA}\n",
    "\\end{align}\n",
    "and by analogy to the Growth Impatience Conditions we define a [Return Patience Factor](https://econ-ark.github.io/BufferStockTheory/BufferStockTheory3.html#RPFacDefn) as:\n",
    "\\begin{align}\n",
    "\\\\ \\RPFac & = \\APFac/\\Rfree\n",
    "\\end{align}\n",
    "because this leads to a definition of a [Return Impatience Condition](https://econ-ark.github.io/BufferStockTheory/BufferStockTheory3.html#RIC) as:\n",
    "\\begin{align}\n",
    "\\\\ \\RPFac & < 1\n",
    "\\end{align}\n",
    "which makes sense because, in the perfect foresight model, the marginal propensity to consume is $\\kappa = 1-\\RPFac$ which must be positive.\n",
    "\n",
    "In the figure below, we set $\\Rfree$ and $\\Phi$ to fixed values of 1.0.  Explore what happens to the consumption function as you move the parameters as far as you can toward the perfect foresight model and the time preference factor up toward 1 (warning: the model takes longer to solve if the RIC is close to failing; be patient).  What would you expect to see if the upper boundary of the figure were extended far enough?  \n",
    "\n",
    "Notice that the model with uncertainty gets very close to the perfect foresight model only when the uncertainty is tuned down to the very lowest possible levels, relative risk aversion is at its lowest allowed value, and the time preference rate is set to a high number.  Uncertainty has powerful effects!"
   ]
  },
  {
   "cell_type": "code",
   "execution_count": 6,
   "metadata": {
    "lines_to_next_cell": 2
   },
   "outputs": [
    {
     "data": {
      "application/vnd.jupyter.widget-view+json": {
       "model_id": "397c61d46d5a4f5f87e4924ea79cb643",
       "version_major": 2,
       "version_minor": 0
      },
      "text/plain": [
       "interactive(children=(FloatSlider(value=0.005, continuous_update=False, description='℘', max=0.05, min=0.001, …"
      ]
     },
     "metadata": {},
     "output_type": "display_data"
    }
   ],
   "source": [
    "cFuncBounds_widget = interactive(\n",
    "    BST.makeBoundsFigure,\n",
    "    UnempPrb=BST.UnempPrb_widget[3],\n",
    "    PermShkStd=BST.PermShkStd_widget[3],\n",
    "    TranShkStd=BST.TranShkStd_widget[3],\n",
    "    DiscFac=BST.DiscFac_widget[3],\n",
    "    CRRA=BST.CRRA_widget[3]\n",
    ")\n",
    "cFuncBounds_widget"
   ]
  }
 ],
 "metadata": {
  "jupytext": {
   "cell_metadata_filter": "ExecuteTime,collapsed,jupyter,tags,-autoscroll",
   "cell_metadata_json": true,
   "encoding": "# -*- coding: utf-8 -*-",
   "formats": "ipynb,py:percent",
   "notebook_metadata_filter": "all,-widgets,-varInspector"
  },
  "kernelspec": {
   "display_name": "Python 3 (ipykernel)",
   "language": "python",
   "name": "python3"
  },
  "language_info": {
   "codemirror_mode": {
    "name": "ipython",
    "version": 3
   },
   "file_extension": ".py",
   "mimetype": "text/x-python",
   "name": "python",
   "nbconvert_exporter": "python",
   "pygments_lexer": "ipython3",
   "version": "3.8.8"
  },
  "latex_envs": {
   "LaTeX_envs_menu_present": true,
   "autoclose": false,
   "autocomplete": false,
   "bibliofile": "biblio.bib",
   "cite_by": "apalike",
   "current_citInitial": 1,
   "eqLabelWithNumbers": true,
   "eqNumInitial": 1,
   "hotkeys": {
    "equation": "Ctrl-E",
    "itemize": "Ctrl-I"
   },
   "labels_anchors": false,
   "latex_user_defs": false,
   "report_style_numbering": false,
   "user_envs_cfg": false
  }
 },
 "nbformat": 4,
 "nbformat_minor": 4
}
